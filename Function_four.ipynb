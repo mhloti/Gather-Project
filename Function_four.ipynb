{
  "nbformat": 4,
  "nbformat_minor": 0,
  "metadata": {
    "colab": {
      "name": "Function_four.ipynb",
      "provenance": []
    },
    "kernelspec": {
      "name": "python3",
      "display_name": "Python 3"
    }
  },
  "cells": [
    {
      "cell_type": "markdown",
      "metadata": {
        "id": "-UYL5n9pPtIc",
        "colab_type": "text"
      },
      "source": [
        "# Function 4: Municipality & Hashtag Remover\n",
        "\n",
        "Write a function which:\n",
        "- Takes in a pandas dataframe.\n",
        "- Returns the same dataframe which is modified. \n",
        "\n",
        "_Function Specifications_:\n",
        "\n",
        "* Extract the municipality from a tweet using the dictonary given below into a new column in the same dataframe.\n",
        "* Extract the hashtag from a tweet into a new column in the same data frame.\n",
        "* The column headers should be \"municipality\" & \"hashtags\" respectively.\n",
        "* For those tweets which don't have the either a municipality nor a hashtag, fill it with ```np.nan```.\n",
        "\n",
        "* Note: Only pandas and numpy packages may be used.\n",
        "\n",
        "```python\n",
        "\n",
        "municipality_dict = { '@CityofCTAlerts' : 'Cape Town',\n",
        "            '@CityPowerJhb' : 'Johannesburg',\n",
        "            '@eThekwiniM' : 'eThekwini' ,\n",
        "            '@EMMInfo' : 'Ekurhuleni',\n",
        "            '@centlecutility' : 'Mangaung',\n",
        "            '@NMBmunicipality' : 'Nelson Mandela Bay',\n",
        "            '@CityTshwane' : 'Tshwane'}\n",
        "\n",
        "```"
      ]
    },
    {
      "cell_type": "code",
      "metadata": {
        "id": "31LgcHScPtuQ",
        "colab_type": "code",
        "colab": {}
      },
      "source": [
        "def extract_municipality_hashtags(df):\n",
        "\n",
        "    mun_dict = {'@CityofCTAlerts' : 'Cape Town',\n",
        "                '@CityPowerJhb' : 'Johannesburg',\n",
        "                '@eThekwiniM' : 'eThekwini' ,\n",
        "                '@EMMInfo' : 'Ekurhuleni',\n",
        "                '@centlecutility' : 'Mangaung',\n",
        "                '@NMBmunicipality' : 'Nelson Mandela Bay',\n",
        "                '@CityTshwane' : 'Tshwane'}\n",
        "    \n",
        "    handles = list(mun_dict.keys())\n",
        "    \n",
        "    df['municipality'] = df['Tweets'].str.extract(pat ='@'.join(handles)), expand=False).fillna(np.nan)\n",
        "    df['municipality'] = df['municipality'].map(mun_dict)\n",
        "    \n",
        "    df['hashtags'] = df['Tweets'].str.findall(r'#.*?(?=\\s|$)')\n",
        "    df['hashtags'] = df['hashtags'].apply(lambda x: np.nan if len(x)==0 else [x.lower() for x in x])\n",
        "    \n",
        "    return df"
      ],
      "execution_count": 0,
      "outputs": []
    }
  ]
}