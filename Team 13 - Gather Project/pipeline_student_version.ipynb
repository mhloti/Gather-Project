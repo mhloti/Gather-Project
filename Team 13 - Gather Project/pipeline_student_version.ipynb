{
 "cells": [
  {
   "cell_type": "markdown",
   "metadata": {
    "colab_type": "text",
    "id": "t6z7ncXirnv7"
   },
   "source": [
    "# Building an ETL Pipeline\n",
    "\n",
    "As the second part of the predict for Gather, you will need to build a pipeline of functions in python which does the following:\n",
    "\n",
    "1. Function to connect to twitter and scrapes \"Eskom_SA\" tweets.\n",
    "<br>\n",
    "<br>\n",
    "2. Cleans/Processes the tweets from the scraped tweets which will create a dataframe with two new columns using the following functions: <br>\n",
    "&nbsp;&nbsp;&nbsp;&nbsp;&nbsp;&nbsp; a) Hashtag Remover from Analyse Functions\n",
    "<br>\n",
    "<br>\n",
    "3. Functions which connects to your SQL database and uploads the tweets into the table you store the tweets in the database."
   ]
  },
  {
   "cell_type": "code",
   "execution_count": 1,
   "metadata": {
    "colab": {},
    "colab_type": "code",
    "id": "jtYowqI_RiBL"
   },
   "outputs": [],
   "source": [
    "# General:\n",
    "import tweepy           # To consume Twitter's API\n",
    "import pandas as pd     # To handle data\n",
    "import numpy as np      # For numerical computation\n",
    "import json\n",
    "# For plotting and visualization:\n",
    "from IPython.display import display\n",
    "import pyodbc"
   ]
  },
  {
   "cell_type": "markdown",
   "metadata": {
    "colab_type": "text",
    "id": "EykRIHe8ykYS"
   },
   "source": [
    "# Consumer and Access details\n",
    "\n",
    "Fill in your Consumer and Access details you should have recieved when applying for a Twitter API. "
   ]
  },
  {
   "cell_type": "code",
   "execution_count": 2,
   "metadata": {
    "colab": {},
    "colab_type": "code",
    "id": "lquylmvOnFvt"
   },
   "outputs": [],
   "source": [
    "# Consumer:\n",
    "CONSUMER_KEY    = \n",
    "CONSUMER_SECRET = \n",
    "\n",
    "# Access:\n",
    "ACCESS_TOKEN  = \n",
    "ACCESS_SECRET = "
   ]
  },
  {
   "cell_type": "code",
   "execution_count": 0,
   "metadata": {
    "colab": {},
    "colab_type": "code",
    "id": "01RMZH30RiBU"
   },
   "outputs": [],
   "source": [
    "# API's setup:\n",
    "def twitter_setup():\n",
    "    \"\"\"\n",
    "    Utility function to setup the Twitter's API\n",
    "    with access and consumer keys from Twitter.\n",
    "    \"\"\"\n",
    "\n",
    "    # Authentication and access using keys:\n",
    "    auth = tweepy.OAuthHandler(CONSUMER_KEY, CONSUMER_SECRET)\n",
    "    auth.set_access_token(ACCESS_TOKEN, ACCESS_SECRET)\n",
    "\n",
    "    # Return API with authentication:\n",
    "    api = tweepy.API(auth, timeout=1000)\n",
    "    return api"
   ]
  },
  {
   "cell_type": "markdown",
   "metadata": {
    "colab_type": "text",
    "id": "I5nbkmC9vk8F"
   },
   "source": [
    "# Function 1:\n",
    "\n",
    "Write a function which:\n",
    "- Scrapes _\"Eskom_SA\"_ tweets from Twitter. \n",
    "\n",
    "Function Specifications:\n",
    "- The function should return a dataframe with the scraped tweets with just the \"_Tweets_\" and \"_Date_\". \n",
    "- Will take in the ```consumer key,  consumer secret code, access token``` and ```access secret code```.\n",
    "\n",
    "NOTE:\n",
    "The dataframe should have the same column names as those in your SQL Database table where you store the tweets."
   ]
  },
  {
   "cell_type": "code",
   "execution_count": 18,
   "metadata": {
    "colab": {},
    "colab_type": "code",
    "id": "eF6Vnzl3RiBX"
   },
   "outputs": [],
   "source": [
    "def twitter_df(CONSUMER_KEY, CONSUMER_SECRET, ACCESS_TOKEN, ACCESS_SECRET):\n",
    "    # Code Here\n",
    "      \n",
    "    # API's setup:\n",
    "    def twitter_setup():\n",
    "        \"\"\"\n",
    "        Utility function to setup the Twitter's API\n",
    "        with access and consumer keys from Twitter.\n",
    "        \"\"\"\n",
    "        # Authentication and access using keys:\n",
    "        auth = tweepy.OAuthHandler(CONSUMER_KEY, CONSUMER_SECRET)\n",
    "        auth.set_access_token(ACCESS_TOKEN, ACCESS_SECRET)\n",
    "\n",
    "        # Return API with authentication:\n",
    "        api = tweepy.API(auth, timeout=1000)\n",
    "        return api\n",
    "    \n",
    "    extractor = twitter_setup()\n",
    "    tweets = extractor.user_timeline(screen_name=\"Eskom_SA\",\n",
    "                                 count=200,\n",
    "                                 include_rts=False)\n",
    "                                     \n",
    "    tweeter_data = pd.DataFrame(data=np.column_stack([[tweet.text for tweet in tweets],\\\n",
    "                                          [(tweet.created_at) for tweet in tweets]]),\\\n",
    "                                          columns=['Tweets','Date'])   \n",
    "    return tweeter_data"
   ]
  },
  {
   "cell_type": "markdown",
   "metadata": {
    "colab_type": "text",
    "id": "mkUQUNKzpUN2"
   },
   "source": [
    "# Function 2: Removing hashtags and the municipalities\n",
    "\n",
    "Write a function which:\n",
    "- Uses the function you wrote in the Analyse section to extract the hashtags and municipalities into it's own column in a new data frame. \n",
    "\n",
    "Function Specifications:\n",
    "- The function should take in the pandas dataframe you created in Function 1 and return a new pandas dataframe. "
   ]
  },
  {
   "cell_type": "code",
   "execution_count": 0,
   "metadata": {
    "colab": {},
    "colab_type": "code",
    "id": "o12Z44mZRiBb"
   },
   "outputs": [],
   "source": [
    "twitter_df(CONSUMER_KEY, CONSUMER_SECRET, ACCESS_TOKEN, ACCESS_SECRET)"
   ]
  },
  {
   "cell_type": "code",
   "execution_count": 22,
   "metadata": {
    "colab": {},
    "colab_type": "code",
    "id": "UOuThS2kRiBf"
   },
   "outputs": [],
   "source": [
    "### START FUNCTION\n",
    "def extract_municipality_hashtags(df):\n",
    "    # your code here\n",
    "    \n",
    "    \"\"\"Return a modified dataframe that includes two new columns with information\n",
    "    about the municipality and hashtags of the tweet.\n",
    "    \n",
    "    Parameter\n",
    "    - - - - -\n",
    "    df: dataframe\n",
    "        A pandas dataframe as the parameter.\n",
    "    mun_dict : dictinary\n",
    "        A dictionary used to store municipalities.\n",
    "        \n",
    "    Returns\n",
    "    - - - - \n",
    "    df: dataframe\n",
    "        An updated dataframe with two new columns; municipality and hashtags.\"\"\"\n",
    "    \n",
    "    mun_dict = {'@CityofCTAlerts' : 'Cape Town',\n",
    "                '@CityPowerJhb' : 'Johannesburg',\n",
    "                '@eThekwiniM' : 'eThekwini' ,\n",
    "                '@EMMInfo' : 'Ekurhuleni',\n",
    "                '@centlecutility' : 'Mangaung',\n",
    "                '@NMBmunicipality' : 'Nelson Mandela Bay',\n",
    "                '@CityTshwane' : 'Tshwane'}\n",
    "    \n",
    "    # get the name of the municipality \n",
    "    def get_mun(a):\n",
    "        for key in a.split():\n",
    "            if key in  mun_dict.keys():\n",
    "                return mun_dict[key]\n",
    "        return np.nan\n",
    "    \n",
    "    # create a function that will extract the hashtags\n",
    "    lst = []\n",
    "    tweets = df['Tweets']\n",
    "    for word in tweets:\n",
    "        if '#' in word:\n",
    "            lst.append(list(filter(lambda tweet:tweet.startswith('#'), word.lower().split())))\n",
    "        else:\n",
    "            lst.append('NaN')\n",
    "        \n",
    "    # apply the local function to the dataframe column containing the tweets\n",
    "    df['Municipality'] = df['Tweets'].apply(get_mun)\n",
    "    df['Hashtags'] = lst\n",
    "    \n",
    "    return df"
   ]
  },
  {
   "cell_type": "markdown",
   "metadata": {
    "colab_type": "text",
    "id": "L9bXQ_k8xOjV"
   },
   "source": [
    "# Function 3: Updating SQL Database with pyODBC\n",
    "\n",
    "Write a function which:\n",
    "- Connects and updates your SQL database. \n",
    "\n",
    "Function Specifications:\n",
    "- The function should take in a pandas dataframe created in Function 2. \n",
    "- Connect to your SQL database.\n",
    "- Update the table you store your tweets in.\n",
    "- Not return any output."
   ]
  },
  {
   "cell_type": "code",
   "execution_count": null,
   "metadata": {},
   "outputs": [],
   "source": [
    "def pyodbc_twitter(connection, df, twitter_table):\n",
    "    ### Code Here\n",
    "    \n",
    "    \"\"\"Updates the SQL database with the new dataframe with two new columns;\n",
    "    municipality and hashtags.\n",
    "    \n",
    "    Parameter\n",
    "    - - - - -\n",
    "    df: dataframe\n",
    "        A pandas dataframe as the parameter.\n",
    "    a: list\n",
    "        A list of the dataframe columns with the records.\n",
    "        \n",
    "    Returns\n",
    "    - - - - \n",
    "    Not return any output.\"\"\"\n",
    "    \n",
    "    for row,column in df.iterrows():\n",
    "        a = list(column)\n",
    "        cur.execute(\"\"\"INSERT INTO {}(Tweets_Date,Municipality,Hashtags,Tweets)\\\n",
    "                    VALUES(?,?,?,?)\"\"\".format(twitter_table), a[1],str(a[2]),str(a[3]),a[0]))\n",
    "    connection.commit()\n",
    "    connection.close()\n",
    "    return None"
   ]
  }
 ],
 "metadata": {
  "colab": {
   "name": "pipeline_student_version.ipynb",
   "provenance": []
  },
  "kernelspec": {
   "display_name": "Python 3",
   "language": "python",
   "name": "python3"
  },
  "language_info": {
   "codemirror_mode": {
    "name": "ipython",
    "version": 3
   },
   "file_extension": ".py",
   "mimetype": "text/x-python",
   "name": "python",
   "nbconvert_exporter": "python",
   "pygments_lexer": "ipython3",
   "version": "3.7.4"
  }
 },
 "nbformat": 4,
 "nbformat_minor": 1
}
