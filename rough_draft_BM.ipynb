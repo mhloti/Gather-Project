{
  "nbformat": 4,
  "nbformat_minor": 0,
  "metadata": {
    "colab": {
      "name": "rough_draft_BM",
      "provenance": [],
      "collapsed_sections": [],
      "authorship_tag": "ABX9TyMtbD2ihmqZkizLOft60gOu"
    },
    "kernelspec": {
      "name": "python3",
      "display_name": "Python 3"
    }
  },
  "cells": [
    {
      "cell_type": "markdown",
      "metadata": {
        "id": "lni7hean2eyq"
      },
      "source": [
        "### Use BigQuery via magics\n",
        "Connect google colab to BigQuery."
      ]
    },
    {
      "cell_type": "code",
      "metadata": {
        "id": "j1gT4YbbtxqS",
        "outputId": "783e4651-4a88-4576-de21-83f57fbf48dc",
        "colab": {
          "base_uri": "https://localhost:8080/",
          "height": 33
        }
      },
      "source": [
        "import pandas_gbq\n",
        "from google.colab import auth\n",
        "\n",
        "auth.authenticate_user()\n",
        "print('Authenticated')"
      ],
      "execution_count": 2,
      "outputs": [
        {
          "output_type": "stream",
          "text": [
            "Authenticated\n"
          ],
          "name": "stdout"
        }
      ]
    },
    {
      "cell_type": "code",
      "metadata": {
        "id": "fjj9nHQgwu4x"
      },
      "source": [
        "# Display query output immediately\n",
        "\n",
        "%%bigquery --project tcc-dgo-edsa\n",
        "SELECT *\n",
        "FROM `tcc-dgo-edsa.tcc_dgo_edsa.BW_DATA_MDM_20200929`"
      ],
      "execution_count": null,
      "outputs": []
    },
    {
      "cell_type": "code",
      "metadata": {
        "id": "HkVXtZs42EoB"
      },
      "source": [
        "# Save output in a variable `df`\n",
        "\n",
        "%%bigquery --project tcc-dgo-edsa df\n",
        "SELECT *\n",
        "FROM `tcc-dgo-edsa.tcc_dgo_edsa.BW_DATA_MDM_20200929`"
      ],
      "execution_count": 4,
      "outputs": []
    },
    {
      "cell_type": "code",
      "metadata": {
        "id": "JnS4GMIM2Pqf",
        "outputId": "e8f87f53-ec39-48a0-fafb-2023c2375b9e",
        "colab": {
          "base_uri": "https://localhost:8080/",
          "height": 276
        }
      },
      "source": [
        "df.head()"
      ],
      "execution_count": 5,
      "outputs": [
        {
          "output_type": "execute_result",
          "data": {
            "text/html": [
              "<div>\n",
              "<style scoped>\n",
              "    .dataframe tbody tr th:only-of-type {\n",
              "        vertical-align: middle;\n",
              "    }\n",
              "\n",
              "    .dataframe tbody tr th {\n",
              "        vertical-align: top;\n",
              "    }\n",
              "\n",
              "    .dataframe thead th {\n",
              "        text-align: right;\n",
              "    }\n",
              "</style>\n",
              "<table border=\"1\" class=\"dataframe\">\n",
              "  <thead>\n",
              "    <tr style=\"text-align: right;\">\n",
              "      <th></th>\n",
              "      <th>COMPANY_CODE</th>\n",
              "      <th>COMPANY_CODE_TEXT</th>\n",
              "      <th>PROFIT_CENTER</th>\n",
              "      <th>PROFIT_CENTER_TEXT</th>\n",
              "      <th>COST_ELEMENT</th>\n",
              "      <th>COST_ELEMENT_TEXT</th>\n",
              "      <th>CUSTOMER</th>\n",
              "      <th>CUSTOMER_TEXT</th>\n",
              "      <th>CUSTOMER_GROUP</th>\n",
              "      <th>CUSTOMER_GROUP_TEXT</th>\n",
              "      <th>SALES_CHANNEL_L2</th>\n",
              "      <th>SALES_CHANNEL_L2_TEXT</th>\n",
              "      <th>SALES_CHANNEL_L3</th>\n",
              "      <th>SALES_CHANNEL_L3_TEXT</th>\n",
              "      <th>GO_TO_MARKET_LEVEL_1</th>\n",
              "      <th>GO_TO_MARKET_LEVEL_1_TEXT</th>\n",
              "      <th>GO_TO_MARKET_LEVEL_2</th>\n",
              "      <th>GO_TO_MARKET_LEVEL_2_TEXT</th>\n",
              "      <th>CRO_AREA</th>\n",
              "      <th>CRO_AREA_TEXT</th>\n",
              "      <th>SALES_OFFICE_MD_NAV</th>\n",
              "      <th>SALES_OFFICE_MD_NAV_TEXT</th>\n",
              "      <th>ACTUAL_FY2018_ZAR</th>\n",
              "      <th>BUDGET_FY2018_ZAR</th>\n",
              "      <th>R_ACTUAL_FY2018_ZAR</th>\n",
              "      <th>R_BUDGET_FY2018_ZAR</th>\n",
              "      <th>HOLDING_CO_ID</th>\n",
              "    </tr>\n",
              "  </thead>\n",
              "  <tbody>\n",
              "    <tr>\n",
              "      <th>0</th>\n",
              "      <td>20</td>\n",
              "      <td>Business Connexion</td>\n",
              "      <td>T7600</td>\n",
              "      <td>IS TE Conv Comm Managed Data Netw</td>\n",
              "      <td>800002</td>\n",
              "      <td>Revenue Upload</td>\n",
              "      <td>000000000#</td>\n",
              "      <td>Not assigned</td>\n",
              "      <td>#</td>\n",
              "      <td>Unassigned</td>\n",
              "      <td>#</td>\n",
              "      <td>Not assigned</td>\n",
              "      <td>#</td>\n",
              "      <td>Not assigned</td>\n",
              "      <td>#</td>\n",
              "      <td>Unassigned</td>\n",
              "      <td>#</td>\n",
              "      <td>Unassigned</td>\n",
              "      <td>#</td>\n",
              "      <td>Not assigned</td>\n",
              "      <td>#</td>\n",
              "      <td>None</td>\n",
              "      <td>-0.01</td>\n",
              "      <td>0.00</td>\n",
              "      <td>0.01</td>\n",
              "      <td>0.00</td>\n",
              "      <td>-</td>\n",
              "    </tr>\n",
              "    <tr>\n",
              "      <th>1</th>\n",
              "      <td>20</td>\n",
              "      <td>Business Connexion</td>\n",
              "      <td>H5500</td>\n",
              "      <td>SD EUM</td>\n",
              "      <td>800045</td>\n",
              "      <td>Revenue - uninv inc</td>\n",
              "      <td>000000000#</td>\n",
              "      <td>Not assigned</td>\n",
              "      <td>#</td>\n",
              "      <td>Unassigned</td>\n",
              "      <td>#</td>\n",
              "      <td>Not assigned</td>\n",
              "      <td>#</td>\n",
              "      <td>Not assigned</td>\n",
              "      <td>#</td>\n",
              "      <td>Unassigned</td>\n",
              "      <td>#</td>\n",
              "      <td>Unassigned</td>\n",
              "      <td>#</td>\n",
              "      <td>Not assigned</td>\n",
              "      <td>#</td>\n",
              "      <td>None</td>\n",
              "      <td>1060069.11</td>\n",
              "      <td>0.00</td>\n",
              "      <td>-1060069.11</td>\n",
              "      <td>0.00</td>\n",
              "      <td>-</td>\n",
              "    </tr>\n",
              "    <tr>\n",
              "      <th>2</th>\n",
              "      <td>20</td>\n",
              "      <td>Business Connexion</td>\n",
              "      <td>H5590</td>\n",
              "      <td>SD Inter8 EUM Desktop Support SAB</td>\n",
              "      <td>800000</td>\n",
              "      <td>Invoiced Revenue</td>\n",
              "      <td>000000000#</td>\n",
              "      <td>Not assigned</td>\n",
              "      <td>#</td>\n",
              "      <td>Unassigned</td>\n",
              "      <td>#</td>\n",
              "      <td>Not assigned</td>\n",
              "      <td>#</td>\n",
              "      <td>Not assigned</td>\n",
              "      <td>#</td>\n",
              "      <td>Unassigned</td>\n",
              "      <td>#</td>\n",
              "      <td>Unassigned</td>\n",
              "      <td>#</td>\n",
              "      <td>Not assigned</td>\n",
              "      <td>#</td>\n",
              "      <td>None</td>\n",
              "      <td>0.00</td>\n",
              "      <td>-2969.84</td>\n",
              "      <td>0.00</td>\n",
              "      <td>2969.84</td>\n",
              "      <td>-</td>\n",
              "    </tr>\n",
              "    <tr>\n",
              "      <th>3</th>\n",
              "      <td>20</td>\n",
              "      <td>Business Connexion</td>\n",
              "      <td>J0030</td>\n",
              "      <td>COR Executive Public Sales</td>\n",
              "      <td>800050</td>\n",
              "      <td>Revenue Inter divisi</td>\n",
              "      <td>000000000#</td>\n",
              "      <td>Not assigned</td>\n",
              "      <td>#</td>\n",
              "      <td>Unassigned</td>\n",
              "      <td>#</td>\n",
              "      <td>Not assigned</td>\n",
              "      <td>#</td>\n",
              "      <td>Not assigned</td>\n",
              "      <td>#</td>\n",
              "      <td>Unassigned</td>\n",
              "      <td>#</td>\n",
              "      <td>Unassigned</td>\n",
              "      <td>#</td>\n",
              "      <td>Not assigned</td>\n",
              "      <td>#</td>\n",
              "      <td>None</td>\n",
              "      <td>-511550.10</td>\n",
              "      <td>0.00</td>\n",
              "      <td>511550.10</td>\n",
              "      <td>0.00</td>\n",
              "      <td>-</td>\n",
              "    </tr>\n",
              "    <tr>\n",
              "      <th>4</th>\n",
              "      <td>20</td>\n",
              "      <td>Business Connexion</td>\n",
              "      <td>J0031</td>\n",
              "      <td>CRO BCX Public National</td>\n",
              "      <td>800050</td>\n",
              "      <td>Revenue Inter divisi</td>\n",
              "      <td>000000000#</td>\n",
              "      <td>Not assigned</td>\n",
              "      <td>#</td>\n",
              "      <td>Unassigned</td>\n",
              "      <td>#</td>\n",
              "      <td>Not assigned</td>\n",
              "      <td>#</td>\n",
              "      <td>Not assigned</td>\n",
              "      <td>#</td>\n",
              "      <td>Unassigned</td>\n",
              "      <td>#</td>\n",
              "      <td>Unassigned</td>\n",
              "      <td>#</td>\n",
              "      <td>Not assigned</td>\n",
              "      <td>#</td>\n",
              "      <td>None</td>\n",
              "      <td>-164784.54</td>\n",
              "      <td>0.00</td>\n",
              "      <td>164784.54</td>\n",
              "      <td>0.00</td>\n",
              "      <td>-</td>\n",
              "    </tr>\n",
              "  </tbody>\n",
              "</table>\n",
              "</div>"
            ],
            "text/plain": [
              "  COMPANY_CODE   COMPANY_CODE_TEXT  ... R_BUDGET_FY2018_ZAR HOLDING_CO_ID\n",
              "0           20  Business Connexion  ...                0.00             -\n",
              "1           20  Business Connexion  ...                0.00             -\n",
              "2           20  Business Connexion  ...             2969.84             -\n",
              "3           20  Business Connexion  ...                0.00             -\n",
              "4           20  Business Connexion  ...                0.00             -\n",
              "\n",
              "[5 rows x 27 columns]"
            ]
          },
          "metadata": {
            "tags": []
          },
          "execution_count": 5
        }
      ]
    },
    {
      "cell_type": "code",
      "metadata": {
        "id": "r8qLsQ7bAwXD",
        "outputId": "e37e5240-22d1-4cdb-c155-1a29421ec152",
        "colab": {
          "base_uri": "https://localhost:8080/",
          "height": 472
        }
      },
      "source": [
        "# Check the column datatype\n",
        "\n",
        "df.dtypes"
      ],
      "execution_count": 8,
      "outputs": [
        {
          "output_type": "execute_result",
          "data": {
            "text/plain": [
              "COMPANY_CODE                  object\n",
              "COMPANY_CODE_TEXT             object\n",
              "PROFIT_CENTER                 object\n",
              "PROFIT_CENTER_TEXT            object\n",
              "COST_ELEMENT                  object\n",
              "COST_ELEMENT_TEXT             object\n",
              "CUSTOMER                      object\n",
              "CUSTOMER_TEXT                 object\n",
              "CUSTOMER_GROUP                object\n",
              "CUSTOMER_GROUP_TEXT           object\n",
              "SALES_CHANNEL_L2              object\n",
              "SALES_CHANNEL_L2_TEXT         object\n",
              "SALES_CHANNEL_L3              object\n",
              "SALES_CHANNEL_L3_TEXT         object\n",
              "GO_TO_MARKET_LEVEL_1          object\n",
              "GO_TO_MARKET_LEVEL_1_TEXT     object\n",
              "GO_TO_MARKET_LEVEL_2          object\n",
              "GO_TO_MARKET_LEVEL_2_TEXT     object\n",
              "CRO_AREA                      object\n",
              "CRO_AREA_TEXT                 object\n",
              "SALES_OFFICE_MD_NAV           object\n",
              "SALES_OFFICE_MD_NAV_TEXT      object\n",
              "ACTUAL_FY2018_ZAR            float64\n",
              "BUDGET_FY2018_ZAR            float64\n",
              "R_ACTUAL_FY2018_ZAR          float64\n",
              "R_BUDGET_FY2018_ZAR          float64\n",
              "HOLDING_CO_ID                 object\n",
              "dtype: object"
            ]
          },
          "metadata": {
            "tags": []
          },
          "execution_count": 8
        }
      ]
    },
    {
      "cell_type": "markdown",
      "metadata": {
        "id": "Lmvp82qUjuCT"
      },
      "source": [
        "### Main Function\n",
        "\n",
        "This is a function that partitions the columns based on their data types and pushes the column to the designated function to perform syntax analysis.\n",
        "\n",
        "For example, if the column is numeric then it is pushed to a function that has properties that are numeric and a further check if it follows that numeric function.\n",
        "\n",
        "A cell number is numeric, then it gets pushed to a function that checks for numbers."
      ]
    },
    {
      "cell_type": "code",
      "metadata": {
        "id": "eYnXBJp2nGCc"
      },
      "source": [
        "for key, value in df.items():\n",
        "\n",
        "  if isinstance(df[col].dtypes, object):\n",
        "    \"\"\" An account of all the fields with object data types \"\"\"\n",
        "    print(col)\n",
        "  \n",
        "  if isinstance(df[col].dtypes, int):\n",
        "    \"\"\" An account of all the fields with integer data types \"\"\"\n",
        "    print(col)\n",
        "\n",
        "  if isinstance(df[col].dtypes, float):\n",
        "    \"\"\" An account of all the fields with float data types \"\"\"\n",
        "    print(col)\n",
        "\n",
        "  if isinstance(df[col].dtypes, datetime64):\n",
        "    \"\"\" An account of all the fields with datetime data types \"\"\"\n",
        "    print(col)\n"
      ],
      "execution_count": null,
      "outputs": []
    },
    {
      "cell_type": "markdown",
      "metadata": {
        "id": "ZNbsNp9A-iZM"
      },
      "source": [
        "## Import Libraries"
      ]
    },
    {
      "cell_type": "code",
      "metadata": {
        "id": "ByC0D0CD-ivk"
      },
      "source": [
        "import re"
      ],
      "execution_count": 72,
      "outputs": []
    },
    {
      "cell_type": "markdown",
      "metadata": {
        "id": "e37bZgGr0Zc4"
      },
      "source": [
        "### Phone Number Function\n",
        "A function that assesses whether a numeric column with phone numbers is valid or not. "
      ]
    },
    {
      "cell_type": "code",
      "metadata": {
        "id": "5tt7wvw-z4Iq"
      },
      "source": [
        "def phone(x):\n",
        "  \"\"\" A function that tests the syntax of a record to assess against\n",
        "  a valid syntax of phone numbers\"\"\"\n",
        "  \n",
        "  pattern = \"^\\d{10}$\"  # the phone pattern\n",
        "\n",
        "  phone_validity = []  # a list of Y and N indicators for each phone number\n",
        "\n",
        "  for i in x:\n",
        "    if re.research(i, pattern):\n",
        "      phone_validity.append('Y')\n",
        "    else:\n",
        "      phone_validity.append('N')"
      ],
      "execution_count": null,
      "outputs": []
    },
    {
      "cell_type": "markdown",
      "metadata": {
        "id": "LlPKg3cs-Awm"
      },
      "source": [
        "### Email Function\n",
        "A function that assesses whether an alphanumeric column with email is valid or not. "
      ]
    },
    {
      "cell_type": "code",
      "metadata": {
        "id": "aW2jO6Cb-NBF"
      },
      "source": [
        "def email(x):\n",
        "  \"\"\" A function that tests the syntax of a record to assess against\n",
        "  a valid syntax of an email \"\"\"\n",
        "  \n",
        "  pattern = \"[A-Za-z0-9]+@[a-zA-Z]+\\.(com|co.za)\"  # the email pattern\n",
        "\n",
        "  email_validity = []  # a list of Y and N indicators for each email address\n",
        "\n",
        "  for i in x:\n",
        "    if re.research(i, pattern):\n",
        "      email_validity.append('Y')\n",
        "    else:\n",
        "      email_validity.append('N')"
      ],
      "execution_count": null,
      "outputs": []
    },
    {
      "cell_type": "markdown",
      "metadata": {
        "id": "JRr3JIt8nMBc"
      },
      "source": [
        "### Validity Measure function\n",
        "\n",
        "A total count of all the total number of records with valid data values (with Y as an indicator) and all the totla number of records with invalid data values (with N as an indicator).  The percentages of valid and invalid records are calculated."
      ]
    },
    {
      "cell_type": "code",
      "metadata": {
        "id": "xhbBIsM5nLtw"
      },
      "source": [
        "\"\"\" To be modified. This is a dummy representation. \"\"\"\n",
        "\n",
        "def validity(valid, invalid):\n",
        "  \"\"\"This function calculation of columns with valid and invalid records\"\"\"\n",
        "\n",
        "  total_count = len(df.index)                 # total number of records in a single column\n",
        "\n",
        "  valid_perc = valid / total_count * 100      # percentage of valid records\n",
        "\n",
        "  invalid_perc = invalid / total_count * 100  # percentage of invalid records"
      ],
      "execution_count": null,
      "outputs": []
    }
  ]
}